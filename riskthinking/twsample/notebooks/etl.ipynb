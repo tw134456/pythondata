{
 "cells": [
  {
   "cell_type": "code",
   "execution_count": null,
   "id": "f62d6a8e-f390-4305-9fce-b8c02696272a",
   "metadata": {},
   "outputs": [],
   "source": [
    "# maually looked at the data and see the structure"
   ]
  },
  {
   "cell_type": "code",
   "execution_count": null,
   "id": "e300ded6-9cc0-4695-804e-a67005f5093b",
   "metadata": {},
   "outputs": [],
   "source": [
    "import pandas as pd"
   ]
  },
  {
   "cell_type": "code",
   "execution_count": null,
   "id": "abfa06b6-8ae6-4500-9a31-ee010971faf9",
   "metadata": {},
   "outputs": [],
   "source": [
    "root = '/tmp/data'"
   ]
  },
  {
   "cell_type": "code",
   "execution_count": null,
   "id": "3d5505ee-a82b-439f-8728-efbc664960f4",
   "metadata": {},
   "outputs": [],
   "source": [
    "meta = rootdir + \"/symbols_valid_meta.csv\"\n",
    "# read raw local csv data\n",
    "df_meta = pd.read_csv(meta)\n"
   ]
  },
  {
   "cell_type": "code",
   "execution_count": null,
   "id": "2b8570e8-7e97-453f-8ea1-8ad8cd090d53",
   "metadata": {},
   "outputs": [],
   "source": [
    "df_all = list()\n",
    "for index, row in df_meta.iterrows():\n",
    "    symbol = row[\"NASDAQ Symbol\"]\n",
    "    etf = row[\"ETF\"]\n",
    "    # print(symbol)\n",
    "    try:\n",
    "        if etf == \"Y\":\n",
    "            fname = f\"{rootdir}/etfs/{symbol}.csv\"\n",
    "        else:\n",
    "            fname = f\"{rootdir}/stocks/{symbol}.csv\"\n",
    "\n",
    "        df_security = pd.read_csv(fname)\n",
    "        df_security[\"NASDAQ Symbol\"] = symbol\n",
    "        df_all.append(df_security)\n",
    "    except Exception as e:\n",
    "        print(f\"bad symbol {symbol}\", e)"
   ]
  },
  {
   "cell_type": "code",
   "execution_count": null,
   "id": "48d4d858-904f-4786-a64b-3f65725bff90",
   "metadata": {},
   "outputs": [],
   "source": [
    "# remove extra columns to save space\n",
    "df_meta_min = df_meta.drop(\n",
    "    columns=[\n",
    "        \"Nasdaq Traded\",\n",
    "        \"Listing Exchange\",\n",
    "        \"ETF\",\n",
    "        \"Market Category\",\n",
    "        \"Round Lot Size\",\n",
    "        \"Test Issue\",\n",
    "        \"Financial Status\",\n",
    "        \"CQS Symbol\",\n",
    "        \"NextShares\",\n",
    "    ]\n",
    ")\n",
    "joined_df_list = list()\n",
    "for df in df_all:\n",
    "    df_joined = df.join(\n",
    "        df_meta_min.set_index(\"NASDAQ Symbol\"), on=\"NASDAQ Symbol\", how=\"left\"\n",
    "    )\n",
    "    joined_df_list.append(df_joined)"
   ]
  },
  {
   "cell_type": "code",
   "execution_count": null,
   "id": "c2e96ea4-8d47-4f1d-9141-1c6a5041f936",
   "metadata": {},
   "outputs": [],
   "source": [
    "# export data\n",
    "parquetdir = \"/tmp/data/parquet\"\n",
    "featuredir = \"/tmp/data/featuredir\"\n",
    "for df in joined_df_list:\n",
    "    fname = df[\"NASDAQ Symbol\"].iloc[0]\n",
    "    # using basic pandas calculations\n",
    "    # customize for different calcuations here\n",
    "    df[\"vol_moving_avg\"] = df[\"Volume\"].rolling(30).mean()\n",
    "    df[\"adj_close_rolling_med\"] = df[\"Adj Close\"].rolling(30).median()\n",
    "    # write out basic data\n",
    "    df.to_parquet(f\"{parquetdir}/{fname}.parquet.gzip\", compression=\"gzip\")\n",
    "    # smaller feature data set without extra data\n",
    "    df_features = df.drop(\n",
    "        columns=[\"Open\", \"High\", \"Low\", \"Close\", \"Adj Close\", \"Security Name\", \"Symbol\"]\n",
    "    )\n",
    "    df_features.to_parquet(f\"{featuredir}/{fname}.parquet.gzip\", compression=\"gzip\")"
   ]
  }
 ],
 "metadata": {
  "kernelspec": {
   "display_name": "Python 3 (ipykernel)",
   "language": "python",
   "name": "python3"
  },
  "language_info": {
   "codemirror_mode": {
    "name": "ipython",
    "version": 3
   },
   "file_extension": ".py",
   "mimetype": "text/x-python",
   "name": "python",
   "nbconvert_exporter": "python",
   "pygments_lexer": "ipython3",
   "version": "3.11.3"
  }
 },
 "nbformat": 4,
 "nbformat_minor": 5
}
