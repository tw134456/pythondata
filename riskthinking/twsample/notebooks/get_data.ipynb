{
 "cells": [
  {
   "cell_type": "code",
   "execution_count": null,
   "id": "5538b2bf-a1fd-4535-990c-b48bf02ace2d",
   "metadata": {},
   "outputs": [],
   "source": [
    "# kaggle datasets download -d jacksoncrow/stock-market-dataset"
   ]
  },
  {
   "cell_type": "code",
   "execution_count": null,
   "id": "3bd50e2d-add1-48de-b452-d5180711ea9f",
   "metadata": {},
   "outputs": [],
   "source": [
    "# need to configure credentials to use kaggle: link"
   ]
  },
  {
   "cell_type": "code",
   "execution_count": null,
   "id": "a700b342-7850-40ed-8e8c-a0e3e02b1fe5",
   "metadata": {
    "tags": []
   },
   "outputs": [],
   "source": [
    "import kaggle"
   ]
  },
  {
   "cell_type": "code",
   "execution_count": null,
   "id": "45114b7f-a97a-45bb-81c4-954aa5a6337e",
   "metadata": {
    "tags": []
   },
   "outputs": [],
   "source": [
    "\n",
    "kaggle.api.authenticate()\n",
    "\n",
    "kaggle.api.dataset_download_files('jacksoncrow/stock-market-dataset', path='/tmp/data', unzip=True)"
   ]
  },
  {
   "cell_type": "code",
   "execution_count": null,
   "id": "b1dc7c72-2ae3-4723-a278-f7534a23b7a8",
   "metadata": {},
   "outputs": [],
   "source": []
  }
 ],
 "metadata": {
  "kernelspec": {
   "display_name": "Python 3 (ipykernel)",
   "language": "python",
   "name": "python3"
  },
  "language_info": {
   "codemirror_mode": {
    "name": "ipython",
    "version": 3
   },
   "file_extension": ".py",
   "mimetype": "text/x-python",
   "name": "python",
   "nbconvert_exporter": "python",
   "pygments_lexer": "ipython3",
   "version": "3.11.3"
  }
 },
 "nbformat": 4,
 "nbformat_minor": 5
}
