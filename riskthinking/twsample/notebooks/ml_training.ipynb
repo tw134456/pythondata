{
 "cells": [
  {
   "cell_type": "code",
   "execution_count": null,
   "id": "a66094be-1bea-4121-964d-0413c76de7b1",
   "metadata": {},
   "outputs": [],
   "source": [
    "# note, for quick code tests, make the dataset much smaller by removing most files, leaving only IBM* (for example)"
   ]
  },
  {
   "cell_type": "code",
   "execution_count": null,
   "id": "f09344a3-2dcc-4dab-b194-c24321811bae",
   "metadata": {},
   "outputs": [],
   "source": [
    "import pandas as pd\n",
    "from sklearn.model_selection import train_test_split\n",
    "from sklearn.ensemble import RandomForestRegressor\n",
    "from sklearn.metrics import mean_absolute_error, mean_squared_error"
   ]
  },
  {
   "cell_type": "code",
   "execution_count": null,
   "id": "de5aaaf4-49b1-4445-a5fc-2e069cd2c78b",
   "metadata": {},
   "outputs": [],
   "source": [
    "featuredir = '/tmp/data/featuredir\"\n",
    "data = pd.read_parquet(featuredir)"
   ]
  },
  {
   "cell_type": "code",
   "execution_count": null,
   "id": "29d00c0e-607b-41a0-af7f-84e73bf4f146",
   "metadata": {},
   "outputs": [],
   "source": [
    "# Assume `data` is loaded as a Pandas DataFrame\n",
    "data['Date'] = pd.to_datetime(data['Date'])\n",
    "data.set_index('Date', inplace=True)\n",
    "\n",
    "# Remove rows with NaN values\n",
    "data.dropna(inplace=True)\n",
    "\n",
    "# Select features and target\n",
    "features = ['vol_moving_avg', 'adj_close_rolling_med']\n",
    "target = 'Volume'\n",
    "\n",
    "X = data[features]\n",
    "y = data[target]\n",
    "\n",
    "# Split data into train and test sets\n",
    "X_train, X_test, y_train, y_test = train_test_split(X, y, test_size=0.2, random_state=42)\n",
    "\n",
    "# Create a RandomForestRegressor model\n",
    "# for code tests make n_estimators smaller\n",
    "model = RandomForestRegressor(n_estimators=100, random_state=42)\n",
    "\n",
    "# Train the model\n",
    "model.fit(X_train, y_train)\n",
    "\n",
    "# Make predictions on test data\n",
    "y_pred = model.predict(X_test)\n",
    "\n",
    "# Calculate the Mean Absolute Error and Mean Squared Error\n",
    "mae = mean_absolute_error(y_test, y_pred)\n",
    "mse = mean_squared_error(y_test, y_pred)"
   ]
  }
 ],
 "metadata": {
  "kernelspec": {
   "display_name": "Python 3 (ipykernel)",
   "language": "python",
   "name": "python3"
  },
  "language_info": {
   "codemirror_mode": {
    "name": "ipython",
    "version": 3
   },
   "file_extension": ".py",
   "mimetype": "text/x-python",
   "name": "python",
   "nbconvert_exporter": "python",
   "pygments_lexer": "ipython3",
   "version": "3.11.3"
  }
 },
 "nbformat": 4,
 "nbformat_minor": 5
}
