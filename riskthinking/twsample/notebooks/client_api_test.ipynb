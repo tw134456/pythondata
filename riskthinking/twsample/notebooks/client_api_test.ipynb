{
 "cells": [
  {
   "cell_type": "code",
   "execution_count": 1,
   "id": "cf72a4f0-3ad4-4c0e-bd79-62beaa8d0230",
   "metadata": {},
   "outputs": [],
   "source": [
    "import requests\n",
    "import json"
   ]
  },
  {
   "cell_type": "code",
   "execution_count": 2,
   "id": "50158c1a-4156-42b9-bd0f-6d7a235b9917",
   "metadata": {},
   "outputs": [
    {
     "name": "stdout",
     "output_type": "stream",
     "text": [
      "{'initialize': None}\n"
     ]
    }
   ],
   "source": [
    "# Define the server URL\n",
    "server_url = \"http://localhost:5000/initialize\"\n",
    "data = {\"testing\": 12345}\n",
    "response = requests.post(server_url, json=data)\n",
    "dload = json.loads(response.text)\n",
    "\n",
    "print(dload)"
   ]
  },
  {
   "cell_type": "code",
   "execution_count": 3,
   "id": "bc441e0a-3d10-4eba-91d3-7c505955167d",
   "metadata": {},
   "outputs": [
    {
     "name": "stdout",
     "output_type": "stream",
     "text": [
      "<Response [200]>\n",
      "{'get_data': None}\n"
     ]
    }
   ],
   "source": [
    "# Define the server URL\n",
    "server_url = \"http://localhost:5000/getdata\"\n",
    "data = {\"testing\": 12345}\n",
    "response = requests.post(server_url, json=data)\n",
    "print(response)\n",
    "dload = json.loads(response.text)\n",
    "print(dload)"
   ]
  },
  {
   "cell_type": "code",
   "execution_count": 4,
   "id": "c51841c8-59ce-401a-94a1-9adb77ec7cdf",
   "metadata": {},
   "outputs": [
    {
     "name": "stdout",
     "output_type": "stream",
     "text": [
      "<Response [200]>\n",
      "{'shrink': 'code: 0 stdout: None stderr: None'}\n"
     ]
    }
   ],
   "source": [
    "# Define the server URL\n",
    "server_url = \"http://localhost:5000/shrink\"\n",
    "data = {\"testing\": 12345}\n",
    "response = requests.post(server_url, json=data)\n",
    "print(response)\n",
    "dload = json.loads(response.text)\n",
    "\n",
    "print(dload)"
   ]
  },
  {
   "cell_type": "code",
   "execution_count": 5,
   "id": "e8e174c7-a2d1-44fa-864d-edb2f773d078",
   "metadata": {},
   "outputs": [
    {
     "name": "stdout",
     "output_type": "stream",
     "text": [
      "<Response [200]>\n",
      "{'convert': None}\n"
     ]
    }
   ],
   "source": [
    "# Define the server URL\n",
    "server_url = \"http://localhost:5000/configure\"\n",
    "data = {\"testing\": 12345}\n",
    "response = requests.post(server_url, json=data)\n",
    "print(response)\n",
    "dload = json.loads(response.text)\n",
    "\n",
    "print(dload)"
   ]
  },
  {
   "cell_type": "code",
   "execution_count": 6,
   "id": "054c6b1d-e70e-4d7b-bc65-6a0a559cda4b",
   "metadata": {},
   "outputs": [
    {
     "name": "stdout",
     "output_type": "stream",
     "text": [
      "<Response [200]>\n",
      "{'train': None}\n"
     ]
    }
   ],
   "source": [
    "# Define the server URL\n",
    "server_url = \"http://localhost:5000/train\"\n",
    "data = {\"testing\": 12345}\n",
    "response = requests.post(server_url, json=data)\n",
    "print(response)\n",
    "dload = json.loads(response.text)\n",
    "\n",
    "print(dload)"
   ]
  },
  {
   "cell_type": "code",
   "execution_count": 7,
   "id": "c6e16805-5126-4cba-8260-b16bd42d39fd",
   "metadata": {},
   "outputs": [
    {
     "name": "stdout",
     "output_type": "stream",
     "text": [
      "{'model_loaded': 'model loaded'}\n"
     ]
    }
   ],
   "source": [
    "# Define the server URL\n",
    "server_url = \"http://localhost:5000/loadmodel\"\n",
    "data = {\"testing\": 12345}\n",
    "response = requests.post(server_url, json=data)\n",
    "dload = json.loads(response.text)\n",
    "\n",
    "print(dload)"
   ]
  },
  {
   "cell_type": "code",
   "execution_count": 8,
   "id": "83914b5f-7c10-441d-81b4-a50222ef3630",
   "metadata": {},
   "outputs": [
    {
     "name": "stdout",
     "output_type": "stream",
     "text": [
      "<Response [200]>\n",
      "[15042.0]\n"
     ]
    }
   ],
   "source": [
    "# Define the server URL\n",
    "server_url = \"http://localhost:5000/predict\"\n",
    "\n",
    "# Define the input data for prediction\n",
    "data = {\"vol_moving_avg\": 12345, \"adj_close_rolling_med\": 25}\n",
    "\n",
    "# Send a POST request to the server with the input data\n",
    "response = requests.post(server_url, json=data)\n",
    "\n",
    "print(response)\n",
    "# Parse the JSON response\n",
    "predictions = json.loads(response.text)[\"predictions\"]\n",
    "\n",
    "# Print the predictions\n",
    "print(predictions)"
   ]
  },
  {
   "cell_type": "code",
   "execution_count": null,
   "id": "0f74382f-8148-4899-9d09-fc6599c3a7ca",
   "metadata": {},
   "outputs": [],
   "source": []
  }
 ],
 "metadata": {
  "kernelspec": {
   "display_name": "Python 3 (ipykernel)",
   "language": "python",
   "name": "python3"
  },
  "language_info": {
   "codemirror_mode": {
    "name": "ipython",
    "version": 3
   },
   "file_extension": ".py",
   "mimetype": "text/x-python",
   "name": "python",
   "nbconvert_exporter": "python",
   "pygments_lexer": "ipython3",
   "version": "3.11.3"
  }
 },
 "nbformat": 4,
 "nbformat_minor": 5
}
